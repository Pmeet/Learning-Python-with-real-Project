{
 "cells": [
  {
   "cell_type": "code",
   "execution_count": 12,
   "metadata": {},
   "outputs": [],
   "source": [
    "def addnums(a,b):\n",
    "    return a+b"
   ]
  },
  {
   "cell_type": "code",
   "execution_count": 2,
   "metadata": {},
   "outputs": [],
   "source": [
    "x = 5"
   ]
  },
  {
   "cell_type": "code",
   "execution_count": 3,
   "metadata": {},
   "outputs": [
    {
     "data": {
      "text/plain": [
       "5"
      ]
     },
     "execution_count": 3,
     "metadata": {},
     "output_type": "execute_result"
    }
   ],
   "source": [
    "x"
   ]
  },
  {
   "cell_type": "code",
   "execution_count": 4,
   "metadata": {},
   "outputs": [],
   "source": [
    "x = \"hello\""
   ]
  },
  {
   "cell_type": "code",
   "execution_count": 5,
   "metadata": {},
   "outputs": [
    {
     "data": {
      "text/plain": [
       "'hello'"
      ]
     },
     "execution_count": 5,
     "metadata": {},
     "output_type": "execute_result"
    }
   ],
   "source": [
    "x"
   ]
  },
  {
   "cell_type": "code",
   "execution_count": 11,
   "metadata": {},
   "outputs": [
    {
     "data": {
      "text/plain": [
       "3"
      ]
     },
     "execution_count": 11,
     "metadata": {},
     "output_type": "execute_result"
    }
   ],
   "source": [
    "addnums(1,2)"
   ]
  },
  {
   "cell_type": "markdown",
   "metadata": {},
   "source": [
    "# Interaction between different python functions\n",
    "\n",
    "3 cups and 1 ball. the ball is hidden under any random. cups are shuffled. he asks the player\n",
    "to guess the ball is."
   ]
  },
  {
   "cell_type": "code",
   "execution_count": 13,
   "metadata": {},
   "outputs": [],
   "source": [
    "from random import shuffle"
   ]
  },
  {
   "cell_type": "code",
   "execution_count": 14,
   "metadata": {},
   "outputs": [],
   "source": [
    "l = [1,2,3,4,5]"
   ]
  },
  {
   "cell_type": "code",
   "execution_count": 21,
   "metadata": {},
   "outputs": [],
   "source": [
    "shuffle(l)"
   ]
  },
  {
   "cell_type": "code",
   "execution_count": 22,
   "metadata": {},
   "outputs": [
    {
     "data": {
      "text/plain": [
       "[5, 3, 2, 1, 4]"
      ]
     },
     "execution_count": 22,
     "metadata": {},
     "output_type": "execute_result"
    }
   ],
   "source": [
    "l"
   ]
  },
  {
   "cell_type": "code",
   "execution_count": 23,
   "metadata": {},
   "outputs": [],
   "source": [
    "cups = [' ', '0', ' ']"
   ]
  },
  {
   "cell_type": "code",
   "execution_count": 24,
   "metadata": {},
   "outputs": [],
   "source": [
    "shuffle(cups) # inline change and returns nothing"
   ]
  },
  {
   "cell_type": "code",
   "execution_count": 25,
   "metadata": {},
   "outputs": [
    {
     "data": {
      "text/plain": [
       "['0', ' ', ' ']"
      ]
     },
     "execution_count": 25,
     "metadata": {},
     "output_type": "execute_result"
    }
   ],
   "source": [
    "cups"
   ]
  },
  {
   "cell_type": "code",
   "execution_count": 39,
   "metadata": {},
   "outputs": [],
   "source": [
    "def shuffle_it(l):\n",
    "    shuffle(l)\n",
    "    return l"
   ]
  },
  {
   "cell_type": "code",
   "execution_count": 33,
   "metadata": {},
   "outputs": [
    {
     "name": "stdout",
     "output_type": "stream",
     "text": [
      "['0', ' ', ' ']\n"
     ]
    }
   ],
   "source": [
    "result = shuffle_it(cups)\n",
    "print(result)"
   ]
  },
  {
   "cell_type": "code",
   "execution_count": 43,
   "metadata": {},
   "outputs": [],
   "source": [
    "def user_guess():\n",
    "    guess = None\n",
    "    while(guess not in [0,1,2,3,4]):\n",
    "        guess = int(input(\"Enter 0,1,2,3 or 4: \"))\n",
    "    return guess"
   ]
  },
  {
   "cell_type": "code",
   "execution_count": 35,
   "metadata": {
    "scrolled": true
   },
   "outputs": [
    {
     "name": "stdout",
     "output_type": "stream",
     "text": [
      "Enter 0,1 or 2: 9\n",
      "Enter 0,1 or 2: 4\n",
      "Enter 0,1 or 2: 2\n"
     ]
    },
    {
     "data": {
      "text/plain": [
       "2"
      ]
     },
     "execution_count": 35,
     "metadata": {},
     "output_type": "execute_result"
    }
   ],
   "source": [
    "user_guess()"
   ]
  },
  {
   "cell_type": "code",
   "execution_count": 36,
   "metadata": {},
   "outputs": [],
   "source": [
    "def check_guess(shuffled_list, guess):\n",
    "    if shuffled_list[guess] == '0':\n",
    "        print('Correct!')\n",
    "    else:\n",
    "        print(\"Incorrect\")\n",
    "        print(shuffled_list)"
   ]
  },
  {
   "cell_type": "code",
   "execution_count": 45,
   "metadata": {
    "scrolled": true
   },
   "outputs": [
    {
     "name": "stdout",
     "output_type": "stream",
     "text": [
      "Enter 0,1,2,3 or 4: 4\n",
      "Incorrect\n",
      "[' ', ' ', ' ', '0', ' ', ' ']\n"
     ]
    }
   ],
   "source": [
    "def shuffle_it(l):\n",
    "    shuffle(l)\n",
    "    return l\n",
    "\n",
    "def user_guess():\n",
    "    guess = None\n",
    "    while(guess not in [0,1,2,3,4]):\n",
    "        guess = int(input(\"Enter 0,1,2,3 or 4: \"))\n",
    "    return guess\n",
    "\n",
    "def check_guess(shuffled_list, guess):\n",
    "    if shuffled_list[guess] == '0':\n",
    "        print('Correct!')\n",
    "    else:\n",
    "        print(\"Incorrect\")\n",
    "        print(shuffled_list)\n",
    "\n",
    "# Initial list\n",
    "cups = [' ', '0', ' ', ' ', ' ', ' ']\n",
    "# Shuffle list\n",
    "shuffled_list = shuffle_it(cups)\n",
    "# Get the guess number from player\n",
    "guess = user_guess()\n",
    "# Check whether the guess was correct\n",
    "check_guess(shuffled_list, guess)"
   ]
  },
  {
   "cell_type": "markdown",
   "metadata": {},
   "source": [
    "# Tuple unpacking"
   ]
  },
  {
   "cell_type": "code",
   "execution_count": 46,
   "metadata": {},
   "outputs": [],
   "source": [
    "t = (1,2,3,4)"
   ]
  },
  {
   "cell_type": "code",
   "execution_count": 47,
   "metadata": {},
   "outputs": [
    {
     "data": {
      "text/plain": [
       "(1, 2, 3, 4)"
      ]
     },
     "execution_count": 47,
     "metadata": {},
     "output_type": "execute_result"
    }
   ],
   "source": [
    "t"
   ]
  },
  {
   "cell_type": "code",
   "execution_count": 48,
   "metadata": {},
   "outputs": [
    {
     "data": {
      "text/plain": [
       "tuple"
      ]
     },
     "execution_count": 48,
     "metadata": {},
     "output_type": "execute_result"
    }
   ],
   "source": [
    "type(t)"
   ]
  },
  {
   "cell_type": "code",
   "execution_count": 49,
   "metadata": {},
   "outputs": [],
   "source": [
    "list_of_tuples = [(1,2),(3,4),(5,6)]"
   ]
  },
  {
   "cell_type": "code",
   "execution_count": 51,
   "metadata": {},
   "outputs": [
    {
     "name": "stdout",
     "output_type": "stream",
     "text": [
      "1 2\n",
      "3 4\n",
      "5 6\n"
     ]
    }
   ],
   "source": [
    "for a,b in list_of_tuples:\n",
    "    print(f\"{a} {b}\")"
   ]
  },
  {
   "cell_type": "markdown",
   "metadata": {},
   "source": [
    "## We have a list of richest people in the world and we want name and the amount\n",
    "## of money the richest person"
   ]
  },
  {
   "cell_type": "code",
   "execution_count": 52,
   "metadata": {},
   "outputs": [],
   "source": [
    "rich_people = [(\"Elon\", 100), (\"Bill\",200), (\"Warren\",400),(\"Jeff\",250)]"
   ]
  },
  {
   "cell_type": "code",
   "execution_count": 54,
   "metadata": {},
   "outputs": [],
   "source": [
    "def check_richest(rich_people):\n",
    "    highest_amount = 0\n",
    "    richest_person = ''\n",
    "    \n",
    "    for person,amount in rich_people:\n",
    "        if amount > highest_amount:\n",
    "            highest_amount = amount\n",
    "            richest_person = person\n",
    "        else:\n",
    "            pass\n",
    "    return (richest_person,highest_amount)\n"
   ]
  },
  {
   "cell_type": "code",
   "execution_count": 55,
   "metadata": {},
   "outputs": [
    {
     "data": {
      "text/plain": [
       "('Warren', 400)"
      ]
     },
     "execution_count": 55,
     "metadata": {},
     "output_type": "execute_result"
    }
   ],
   "source": [
    "check_richest(rich_people)"
   ]
  },
  {
   "cell_type": "markdown",
   "metadata": {},
   "source": [
    "### WAP to calculate factorial of an integer"
   ]
  },
  {
   "cell_type": "code",
   "execution_count": 59,
   "metadata": {},
   "outputs": [],
   "source": [
    "def factorial(x):\n",
    "    if x == 1:\n",
    "        return 1\n",
    "    else:\n",
    "        return (x*factorial(x-1))"
   ]
  },
  {
   "cell_type": "code",
   "execution_count": 60,
   "metadata": {
    "scrolled": true
   },
   "outputs": [
    {
     "data": {
      "text/plain": [
       "1307674368000"
      ]
     },
     "execution_count": 60,
     "metadata": {},
     "output_type": "execute_result"
    }
   ],
   "source": [
    "factorial(15)"
   ]
  },
  {
   "cell_type": "markdown",
   "metadata": {},
   "source": [
    "# Dynamic function arguments"
   ]
  },
  {
   "cell_type": "code",
   "execution_count": null,
   "metadata": {},
   "outputs": [],
   "source": [
    "#*ARGS & **KWARGS"
   ]
  },
  {
   "cell_type": "code",
   "execution_count": 66,
   "metadata": {},
   "outputs": [],
   "source": [
    "def myfunc(a,b,c=0):\n",
    "    return sum((a,b,c))"
   ]
  },
  {
   "cell_type": "code",
   "execution_count": 68,
   "metadata": {},
   "outputs": [
    {
     "data": {
      "text/plain": [
       "115"
      ]
     },
     "execution_count": 68,
     "metadata": {},
     "output_type": "execute_result"
    }
   ],
   "source": [
    "myfunc(5,10,100)"
   ]
  },
  {
   "cell_type": "markdown",
   "metadata": {},
   "source": [
    "## ARGS"
   ]
  },
  {
   "cell_type": "code",
   "execution_count": 78,
   "metadata": {},
   "outputs": [],
   "source": [
    "def myfunc(*args):\n",
    "    print(args)\n",
    "    print(type(args))\n",
    "    for i in args:\n",
    "        print(i)"
   ]
  },
  {
   "cell_type": "code",
   "execution_count": 79,
   "metadata": {},
   "outputs": [
    {
     "name": "stdout",
     "output_type": "stream",
     "text": [
      "(5, 10, 100, 32, 222, 22, 2222, 222222, 11111)\n",
      "<class 'tuple'>\n",
      "5\n",
      "10\n",
      "100\n",
      "32\n",
      "222\n",
      "22\n",
      "2222\n",
      "222222\n",
      "11111\n"
     ]
    }
   ],
   "source": [
    "myfunc(5,10,100,32,222,22,2222,222222,11111)"
   ]
  },
  {
   "cell_type": "markdown",
   "metadata": {},
   "source": [
    "## KWARGS"
   ]
  },
  {
   "cell_type": "code",
   "execution_count": 84,
   "metadata": {},
   "outputs": [],
   "source": [
    "def myfunc(**kwargs):\n",
    "    print(kwargs)\n",
    "    if 'name' in kwargs:\n",
    "        print(\"Hi, my name is {}\".format(kwargs['name']))\n",
    "    else:\n",
    "        print(\"No name was found!\")"
   ]
  },
  {
   "cell_type": "code",
   "execution_count": 85,
   "metadata": {},
   "outputs": [
    {
     "name": "stdout",
     "output_type": "stream",
     "text": [
      "{'name': 'meet', 'college': 'vvp', 'dept': 'IT'}\n",
      "Hi, my name is meet\n"
     ]
    }
   ],
   "source": [
    "myfunc(name='meet',college='vvp',dept='IT')"
   ]
  },
  {
   "cell_type": "code",
   "execution_count": 88,
   "metadata": {},
   "outputs": [],
   "source": [
    "def myfunc(**kwargs):\n",
    "    for key,value in kwargs.items():\n",
    "        print(\"key - {} and value - {}\".format(key,value))"
   ]
  },
  {
   "cell_type": "code",
   "execution_count": 89,
   "metadata": {},
   "outputs": [
    {
     "name": "stdout",
     "output_type": "stream",
     "text": [
      "key - name and value - meet\n",
      "key - college and value - vvp\n",
      "key - dept and value - IT\n"
     ]
    }
   ],
   "source": [
    "myfunc(name='meet',college='vvp',dept='IT')"
   ]
  },
  {
   "cell_type": "code",
   "execution_count": 90,
   "metadata": {},
   "outputs": [],
   "source": [
    "def func(*args,**kwargs):\n",
    "    print(args)    \n",
    "    print(kwargs)"
   ]
  },
  {
   "cell_type": "code",
   "execution_count": 91,
   "metadata": {},
   "outputs": [
    {
     "name": "stdout",
     "output_type": "stream",
     "text": [
      "(1, 2, 3, 3, 222, 5, 5, 666, 6)\n",
      "{'name': 'meet', 'dept': 'it'}\n"
     ]
    }
   ],
   "source": [
    "func(1,2,3,3,222,5,5,666,6,name='meet',dept='it')"
   ]
  },
  {
   "cell_type": "markdown",
   "metadata": {},
   "source": [
    "## Write a function which takes a string and returns the same string but the letters at even index should be in uppercase and the letters at odd index should be in lowercase"
   ]
  },
  {
   "cell_type": "code",
   "execution_count": null,
   "metadata": {},
   "outputs": [],
   "source": []
  },
  {
   "cell_type": "code",
   "execution_count": null,
   "metadata": {},
   "outputs": [],
   "source": []
  },
  {
   "cell_type": "code",
   "execution_count": null,
   "metadata": {},
   "outputs": [],
   "source": []
  },
  {
   "cell_type": "code",
   "execution_count": null,
   "metadata": {},
   "outputs": [],
   "source": []
  },
  {
   "cell_type": "markdown",
   "metadata": {},
   "source": [
    "# Scope\n",
    "\n",
    "## Rule for scope  LEGB - \n",
    "\n",
    "\n",
    "### L - Local : - Names inside a function\n",
    "\n",
    "\n",
    "### E - Enclosing function locals : - Names in local namespace from inner to outer\n",
    "\n",
    "\n",
    "### G - Global ( module ) : - Names at top of module or declared global in a function in a file\n",
    "\n",
    "\n",
    "### B - Built-in ( Python ) : - Names existing in the python Names module\n"
   ]
  },
  {
   "cell_type": "code",
   "execution_count": 102,
   "metadata": {},
   "outputs": [],
   "source": [
    "x = 2\n",
    "\n",
    "def myfunc():\n",
    "    x = 10 # local variable scope\n",
    "    return x"
   ]
  },
  {
   "cell_type": "code",
   "execution_count": 93,
   "metadata": {},
   "outputs": [
    {
     "name": "stdout",
     "output_type": "stream",
     "text": [
      "2\n"
     ]
    }
   ],
   "source": [
    "print(x)"
   ]
  },
  {
   "cell_type": "code",
   "execution_count": 103,
   "metadata": {},
   "outputs": [
    {
     "data": {
      "text/plain": [
       "10"
      ]
     },
     "execution_count": 103,
     "metadata": {},
     "output_type": "execute_result"
    }
   ],
   "source": [
    "myfunc()"
   ]
  },
  {
   "cell_type": "code",
   "execution_count": 107,
   "metadata": {},
   "outputs": [],
   "source": [
    "var_scope = \" Global \"\n",
    "\n",
    "def scope1():\n",
    "    \n",
    "#     var_scope = \" Enclosed Local \"\n",
    "    \n",
    "    def scope2():\n",
    "#         var_scope = \" Local \"\n",
    "        print(f\" the scope of variable var_scope is {var_scope}\")\n",
    "    scope2()\n"
   ]
  },
  {
   "cell_type": "code",
   "execution_count": 108,
   "metadata": {},
   "outputs": [
    {
     "name": "stdout",
     "output_type": "stream",
     "text": [
      " the scope of variable var_scope is  Enclosed Local \n"
     ]
    }
   ],
   "source": [
    "scope1()"
   ]
  },
  {
   "cell_type": "code",
   "execution_count": null,
   "metadata": {},
   "outputs": [],
   "source": []
  },
  {
   "cell_type": "code",
   "execution_count": null,
   "metadata": {},
   "outputs": [],
   "source": []
  }
 ],
 "metadata": {
  "kernelspec": {
   "display_name": "Python 3",
   "language": "python",
   "name": "python3"
  },
  "language_info": {
   "codemirror_mode": {
    "name": "ipython",
    "version": 3
   },
   "file_extension": ".py",
   "mimetype": "text/x-python",
   "name": "python",
   "nbconvert_exporter": "python",
   "pygments_lexer": "ipython3",
   "version": "3.8.5"
  }
 },
 "nbformat": 4,
 "nbformat_minor": 4
}
